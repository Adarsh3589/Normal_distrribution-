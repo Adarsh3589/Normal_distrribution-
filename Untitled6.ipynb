{
  "nbformat": 4,
  "nbformat_minor": 0,
  "metadata": {
    "colab": {
      "provenance": [],
      "authorship_tag": "ABX9TyP7nICvyK5NCfUGPcvfDXje",
      "include_colab_link": true
    },
    "kernelspec": {
      "name": "python3",
      "display_name": "Python 3"
    },
    "language_info": {
      "name": "python"
    }
  },
  "cells": [
    {
      "cell_type": "markdown",
      "metadata": {
        "id": "view-in-github",
        "colab_type": "text"
      },
      "source": [
        "<a href=\"https://colab.research.google.com/github/Adarsh3589/Normal_distrribution-/blob/main/Untitled6.ipynb\" target=\"_parent\"><img src=\"https://colab.research.google.com/assets/colab-badge.svg\" alt=\"Open In Colab\"/></a>"
      ]
    },
    {
      "cell_type": "code",
      "source": [
        "import os\n",
        "import zipfile\n",
        "import matplotlib.pyplot as plt\n",
        "import seaborn as sns\n",
        "import pandas as pd\n",
        "import numpy as np\n",
        "from scipy.stats import norm, anderson\n",
        "from google.colab import files\n",
        "from IPython.display import display\n",
        "import ipywidgets as widgets\n",
        "\n",
        "\n",
        "# Step 1: Download the Excel file from GitHub\n",
        "url = \"https://raw.githubusercontent.com/Adarsh3589/Normal_distrribution-/7db43f902af6b9e77baa12495238cbaa2b0d3d87/AMS%206431%2020%20Heat%20Tracker%20Test%20Results.xlsx\"\n",
        "response = requests.get(url)\n",
        "response.raise_for_status()\n",
        "excel_data = BytesIO(response.content)\n",
        "\n",
        "# Step 2: Load the second sheet\n",
        "df = pd.read_excel(excel_data, sheet_name=1, engine='openpyxl')\n",
        "\n",
        "\n",
        "\n",
        "# Step 4: Create a dictionary of DataFrames for each unique property\n",
        "unique_properties = df[\"Property\"].dropna().unique().tolist()\n",
        "unique_properties.sort()\n",
        "property_dfs = {prop: df[df[\"Property\"] == prop] for prop in unique_properties}\n",
        "\n",
        "# Step 5: Default property and corresponding DataFrame\n",
        "default_property = unique_properties[0]\n",
        "selected_property_df = property_dfs[default_property]  # ✅ initially assigned\n",
        "\n",
        "# Step 6: Dropdown widget with default value pre-selected\n",
        "property_selector = widgets.Dropdown(\n",
        "    options=unique_properties,\n",
        "    value=default_property,  # ✅ set default selected property\n",
        "    description='Select Property:',\n",
        "    disabled=False,\n",
        ")\n",
        "\n",
        "# Step 7: Output widget to show selected property data\n",
        "output = widgets.Output()\n",
        "\n",
        "# Step 8: Function to update global variable on user selection\n",
        "def on_property_change(change):\n",
        "    global selected_property_df\n",
        "    selected_property_df = property_dfs[change['new']]\n",
        "    with output:\n",
        "        output.clear_output()\n",
        "        print(f\"Selected Property: {change['new']}\")\n",
        "        display(selected_property_df.head())\n",
        "\n",
        "# Step 9: Attach the function to the dropdown\n",
        "property_selector.observe(on_property_change, names='value')\n",
        "\n",
        "# Step 10: Display UI and initial default data\n",
        "display(property_selector, output)\n",
        "\n",
        "# ✅ Trigger initial display\n",
        "with output:\n",
        "    output.clear_output()\n",
        "    print(f\"Selected Property: {default_property}\")\n",
        "    display(selected_property_df.head())\n"
      ],
      "metadata": {
        "id": "lizwb7cJHg26"
      },
      "execution_count": null,
      "outputs": []
    },
    {
      "cell_type": "code",
      "source": [
        "# Extract values\n",
        "prop = selected_property_df['Result'].dropna().sort_values().values\n",
        "prop_name =str(selected_property_df['Property'].iloc[0])\n",
        "mean = np.mean(prop)\n",
        "std = np.std(prop, ddof=1)\n",
        "n = len(prop)\n",
        "\n",
        "# Spec limits\n",
        "Lower_Spec = selected_property_df['Spec_Min'].dropna().iloc[0] if not selected_property_df['Spec_Min'].dropna().empty else None\n",
        "Upper_Spec = selected_property_df['Spec_Max'].dropna().iloc[0] if not selected_property_df['Spec_Max'].dropna().empty else None\n",
        "\n",
        "# X-axis range: ±6σ\n",
        "x_min = mean - 6 * std\n",
        "x_max = mean + 6 * std\n",
        "x = np.linspace(x_min, x_max, 200)\n",
        "p = norm.pdf(x, mean, std)\n",
        "\n",
        "# Anderson-Darling Test\n",
        "result = anderson(prop, dist='norm')\n",
        "ad_stat = result.statistic\n",
        "critical_values = result.critical_values\n",
        "sig_levels = result.significance_level\n",
        "\n",
        "# Create subplots\n",
        "fig, axes = plt.subplots(1, 2, figsize=(15, 6))\n",
        "\n",
        "# Histogram with Normal Distribution\n",
        "sns.histplot(prop, kde=False, stat='density', bins=10, color='skyblue', ax=axes[0], edgecolor='black')\n",
        "axes[0].plot(x, p, 'r--', label='Normal Dist')\n",
        "\n",
        "# Sigma lines and labels\n",
        "for i in range(0, 4):\n",
        "    axes[0].axvline(mean + i * std, color='grey', linestyle='--', linewidth=1)\n",
        "    axes[0].axvline(mean - i * std, color='grey', linestyle='--', linewidth=1)\n",
        "\n",
        "axes[0].axvline(mean + 3 * std, color='red', linestyle='-', linewidth=2)\n",
        "axes[0].axvline(mean - 3 * std, color='red', linestyle='-', linewidth=2)\n",
        "axes[0].text(mean + 3 * std + std * 0.05, max(p) * 0.05, '+3σ', rotation=90, color='red', fontsize=9)\n",
        "axes[0].text(mean - 3 * std + std * 0.05, max(p) * 0.05, '-3σ', rotation=90, color='red', fontsize=9)\n",
        "\n",
        "# Conditional Spec limit annotations (only if within ±3σ beyond data range)\n",
        "if Lower_Spec is not None and Lower_Spec >= (prop.min() - 3 * std):\n",
        "    axes[0].axvline(Lower_Spec, color='blue', linestyle='-', linewidth=2)\n",
        "    axes[0].text(Lower_Spec + std * 0.05, max(p) * 0.05, 'Lower Spec', rotation=90, color='blue', fontsize=9)\n",
        "\n",
        "if Upper_Spec is not None and Upper_Spec <= (prop.max() + 3 * std):\n",
        "    axes[0].axvline(Upper_Spec, color='blue', linestyle='-', linewidth=2)\n",
        "    axes[0].text(Upper_Spec + std * 0.05, max(p) * 0.05, 'Upper Spec', rotation=90, color='blue', fontsize=9)\n",
        "\n",
        "# Set fixed x-limits: ±6σ from mean\n",
        "axes[0].set_xlim(x_min, x_max)\n",
        "axes[0].set_ylim(0, max(p) * 1.2)\n",
        "\n",
        "# Titles and labels\n",
        "axes[0].set_title(f'{prop_name} Histogram with Normal Distribution')\n",
        "axes[0].set_xlabel(f'{prop_name} Result Value')\n",
        "axes[0].set_ylabel('Density')\n",
        "axes[0].legend()\n",
        "axes[0].grid(True)\n",
        "\n",
        "# Normal Probability Plot\n",
        "sorted_data = prop\n",
        "percentiles = np.arange(1, n + 1) / (n + 1) * 100\n",
        "theoretical_quantiles = norm.ppf(percentiles / 100, loc=mean, scale=std)\n",
        "z_critical = 1.96\n",
        "se = std / np.sqrt(n)\n",
        "ci_upper = theoretical_quantiles + z_critical * se\n",
        "ci_lower = theoretical_quantiles - z_critical * se\n",
        "\n",
        "axes[1].plot(sorted_data, percentiles, 'o', label='Sample Data')\n",
        "axes[1].plot(theoretical_quantiles, percentiles, 'r--', label='Normal Fit')\n",
        "axes[1].fill_betweenx(percentiles, ci_lower, ci_upper, color='lightgray', alpha=0.5, label='95% CI')\n",
        "\n",
        "# X-axis range for probability plot\n",
        "axes[1].set_xlim(x_min, x_max)\n",
        "\n",
        "axes[1].set_title(f'{prop_name} Normal Probability Plot')\n",
        "axes[1].set_xlabel(f'{prop_name} Result Value')\n",
        "axes[1].set_ylabel('Cumulative Probability (%)')\n",
        "axes[1].legend()\n",
        "axes[1].grid(True)\n",
        "\n",
        "# Anderson-Darling annotation\n",
        "textstr = f'Anderson-Darling Stat = {ad_stat:.4f}\\n'\n",
        "for i in range(len(sig_levels)):\n",
        "    textstr += f'{int(sig_levels[i])}% CV = {critical_values[i]:.4f}\\n'\n",
        "\n",
        "axes[1].text(0.05, 0.95, textstr, transform=axes[1].transAxes,\n",
        "             fontsize=9, verticalalignment='top',\n",
        "             bbox=dict(boxstyle='round,pad=0.4', facecolor='lightyellow', edgecolor='black'))\n",
        "\n",
        "plt.tight_layout()\n",
        "plt.show()\n"
      ],
      "metadata": {
        "id": "_8fLYqNMJiPj"
      },
      "execution_count": null,
      "outputs": []
    },
    {
      "cell_type": "code",
      "source": [],
      "metadata": {
        "id": "XNyzdD17QjZ1"
      },
      "execution_count": null,
      "outputs": []
    },
    {
      "cell_type": "code",
      "source": [],
      "metadata": {
        "id": "NVZL3riyejyk"
      },
      "execution_count": null,
      "outputs": []
    },
    {
      "cell_type": "code",
      "source": [],
      "metadata": {
        "id": "03IGiRt6cMgW"
      },
      "execution_count": null,
      "outputs": []
    },
    {
      "cell_type": "code",
      "source": [],
      "metadata": {
        "id": "zXoOeMONhAW6"
      },
      "execution_count": null,
      "outputs": []
    },
    {
      "cell_type": "code",
      "source": [],
      "metadata": {
        "id": "yqNRW6suhQax"
      },
      "execution_count": null,
      "outputs": []
    },
    {
      "cell_type": "code",
      "source": [],
      "metadata": {
        "id": "drh2pZq4ihJj"
      },
      "execution_count": null,
      "outputs": []
    },
    {
      "cell_type": "code",
      "source": [],
      "metadata": {
        "id": "juviMOqThakP"
      },
      "execution_count": null,
      "outputs": []
    },
    {
      "cell_type": "code",
      "source": [],
      "metadata": {
        "id": "EzMS1coKh19t"
      },
      "execution_count": null,
      "outputs": []
    },
    {
      "cell_type": "code",
      "source": [],
      "metadata": {
        "id": "czFkTBOOh-Wt"
      },
      "execution_count": null,
      "outputs": []
    }
  ]
}