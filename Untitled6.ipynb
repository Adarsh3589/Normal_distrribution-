{
  "nbformat": 4,
  "nbformat_minor": 0,
  "metadata": {
    "colab": {
      "provenance": [],
      "authorship_tag": "ABX9TyNs9BX7y2ftvOoPA3wS8Vy6",
      "include_colab_link": true
    },
    "kernelspec": {
      "name": "python3",
      "display_name": "Python 3"
    },
    "language_info": {
      "name": "python"
    }
  },
  "cells": [
    {
      "cell_type": "markdown",
      "metadata": {
        "id": "view-in-github",
        "colab_type": "text"
      },
      "source": [
        "<a href=\"https://colab.research.google.com/github/Adarsh3589/Normal_distrribution-/blob/main/Untitled6.ipynb\" target=\"_parent\"><img src=\"https://colab.research.google.com/assets/colab-badge.svg\" alt=\"Open In Colab\"/></a>"
      ]
    },
    {
      "cell_type": "code",
      "execution_count": null,
      "metadata": {
        "id": "ZLl3owRrB89G"
      },
      "outputs": [],
      "source": [
        "\"\"\"import pandas as pd\n",
        "import requests\n",
        "from io import BytesIO\n",
        "\n",
        "# ✅ Correct raw GitHub link\n",
        "url = \"https://raw.githubusercontent.com/Adarsh3589/Normal_distrribution-/7db43f902af6b9e77baa12495238cbaa2b0d3d87/AMS%206431%2020%20Heat%20Tracker%20Test%20Results.xlsx\"\n",
        "\n",
        "# Download and load as binary\n",
        "response = requests.get(url)\n",
        "response.raise_for_status()  # will raise an error if download fails\n",
        "\n",
        "# Read Excel content using BytesIO\n",
        "excel_data = BytesIO(response.content)\n",
        "\n",
        "# Read the second sheet (index 1)\n",
        "df = pd.read_excel(excel_data, sheet_name=1, engine='openpyxl')\n",
        "\n",
        "# Show column names (in case you need to adjust them)\n",
        "print(\"Available columns:\\n\", df.columns.tolist())\n",
        "\n",
        "# Show result\n",
        "df.head(1)\"\"\"\n"
      ]
    },
    {
      "cell_type": "code",
      "source": [
        "\"\"\"# Optionally filter required columns\n",
        "required_columns = [\"Heat_No.\", \"Property\", \"Spec_Min\", \"Spec_Max\", \"Result\"]\n",
        "df = df[required_columns]\n",
        "df.head()\"\"\""
      ],
      "metadata": {
        "id": "9ntHj4omEAes"
      },
      "execution_count": null,
      "outputs": []
    },
    {
      "cell_type": "code",
      "source": [
        "\"\"\"Property_list = list(df['Property'].unique())\n",
        "Property_list\"\"\""
      ],
      "metadata": {
        "id": "ObTdQbROGg_m"
      },
      "execution_count": null,
      "outputs": []
    },
    {
      "cell_type": "code",
      "source": [
        "#df[Property_list[0]]"
      ],
      "metadata": {
        "id": "ILpUZlZ4GslY"
      },
      "execution_count": null,
      "outputs": []
    },
    {
      "cell_type": "code",
      "source": [
        "import pandas as pd\n",
        "import requests\n",
        "from io import BytesIO\n",
        "from IPython.display import display\n",
        "import ipywidgets as widgets\n",
        "\n",
        "# Step 1: Download the Excel file from GitHub\n",
        "url = \"https://raw.githubusercontent.com/Adarsh3589/Normal_distrribution-/7db43f902af6b9e77baa12495238cbaa2b0d3d87/AMS%206431%2020%20Heat%20Tracker%20Test%20Results.xlsx\"\n",
        "response = requests.get(url)\n",
        "response.raise_for_status()\n",
        "excel_data = BytesIO(response.content)\n",
        "\n",
        "# Step 2: Load the second sheet\n",
        "df = pd.read_excel(excel_data, sheet_name=1, engine='openpyxl')\n",
        "\n",
        "# Step 3: Filter only the required columns\n",
        "required_columns = [\"Heat_No.\", \"Property\", \"Spec_Min\", \"Spec_Max\", \"Result\"]\n",
        "df = df[required_columns]\n",
        "\n",
        "# Step 4: Create a dictionary of DataFrames for each unique property\n",
        "unique_properties = df[\"Property\"].dropna().unique().tolist()\n",
        "unique_properties.sort()\n",
        "property_dfs = {prop: df[df[\"Property\"] == prop] for prop in unique_properties}\n",
        "\n",
        "# Step 5: Default property and corresponding DataFrame\n",
        "default_property = unique_properties[0]\n",
        "selected_property_df = property_dfs[default_property]  # ✅ initially assigned\n",
        "\n",
        "# Step 6: Dropdown widget with default value pre-selected\n",
        "property_selector = widgets.Dropdown(\n",
        "    options=unique_properties,\n",
        "    value=default_property,  # ✅ set default selected property\n",
        "    description='Select Property:',\n",
        "    disabled=False,\n",
        ")\n",
        "\n",
        "# Step 7: Output widget to show selected property data\n",
        "output = widgets.Output()\n",
        "\n",
        "# Step 8: Function to update global variable on user selection\n",
        "def on_property_change(change):\n",
        "    global selected_property_df\n",
        "    selected_property_df = property_dfs[change['new']]\n",
        "    with output:\n",
        "        output.clear_output()\n",
        "        print(f\"Selected Property: {change['new']}\")\n",
        "        display(selected_property_df.head())\n",
        "\n",
        "# Step 9: Attach the function to the dropdown\n",
        "property_selector.observe(on_property_change, names='value')\n",
        "\n",
        "# Step 10: Display UI and initial default data\n",
        "display(property_selector, output)\n",
        "\n",
        "# ✅ Trigger initial display\n",
        "with output:\n",
        "    output.clear_output()\n",
        "    print(f\"Selected Property: {default_property}\")\n",
        "    display(selected_property_df.head())\n"
      ],
      "metadata": {
        "id": "lizwb7cJHg26"
      },
      "execution_count": null,
      "outputs": []
    },
    {
      "cell_type": "code",
      "source": [
        "selected_property_df.head()"
      ],
      "metadata": {
        "id": "uiMjp8YvItvm"
      },
      "execution_count": null,
      "outputs": []
    },
    {
      "cell_type": "code",
      "source": [],
      "metadata": {
        "id": "_8fLYqNMJiPj"
      },
      "execution_count": null,
      "outputs": []
    }
  ]
}