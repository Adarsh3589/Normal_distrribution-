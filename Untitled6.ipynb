{
  "nbformat": 4,
  "nbformat_minor": 0,
  "metadata": {
    "colab": {
      "provenance": [],
      "authorship_tag": "ABX9TyMp42VtEiEbFMKS0zZ+cyzs",
      "include_colab_link": true
    },
    "kernelspec": {
      "name": "python3",
      "display_name": "Python 3"
    },
    "language_info": {
      "name": "python"
    },
    "widgets": {
      "application/vnd.jupyter.widget-state+json": {
        "050cd7f3e30f468589e7b45b1ac9c4e0": {
          "model_module": "@jupyter-widgets/controls",
          "model_name": "DropdownModel",
          "model_module_version": "1.5.0",
          "state": {
            "_dom_classes": [],
            "_model_module": "@jupyter-widgets/controls",
            "_model_module_version": "1.5.0",
            "_model_name": "DropdownModel",
            "_options_labels": [
              "C",
              "Cr",
              "Cu",
              "Mn",
              "Mo",
              "Ni ",
              "P",
              "S",
              "Si",
              "V"
            ],
            "_view_count": null,
            "_view_module": "@jupyter-widgets/controls",
            "_view_module_version": "1.5.0",
            "_view_name": "DropdownView",
            "description": "Select Property:",
            "description_tooltip": null,
            "disabled": false,
            "index": 0,
            "layout": "IPY_MODEL_8b80b471f5964cf28515bded1595c351",
            "style": "IPY_MODEL_015cd8a89f8c49b08113be002285938b"
          }
        },
        "8b80b471f5964cf28515bded1595c351": {
          "model_module": "@jupyter-widgets/base",
          "model_name": "LayoutModel",
          "model_module_version": "1.2.0",
          "state": {
            "_model_module": "@jupyter-widgets/base",
            "_model_module_version": "1.2.0",
            "_model_name": "LayoutModel",
            "_view_count": null,
            "_view_module": "@jupyter-widgets/base",
            "_view_module_version": "1.2.0",
            "_view_name": "LayoutView",
            "align_content": null,
            "align_items": null,
            "align_self": null,
            "border": null,
            "bottom": null,
            "display": null,
            "flex": null,
            "flex_flow": null,
            "grid_area": null,
            "grid_auto_columns": null,
            "grid_auto_flow": null,
            "grid_auto_rows": null,
            "grid_column": null,
            "grid_gap": null,
            "grid_row": null,
            "grid_template_areas": null,
            "grid_template_columns": null,
            "grid_template_rows": null,
            "height": null,
            "justify_content": null,
            "justify_items": null,
            "left": null,
            "margin": null,
            "max_height": null,
            "max_width": null,
            "min_height": null,
            "min_width": null,
            "object_fit": null,
            "object_position": null,
            "order": null,
            "overflow": null,
            "overflow_x": null,
            "overflow_y": null,
            "padding": null,
            "right": null,
            "top": null,
            "visibility": null,
            "width": null
          }
        },
        "015cd8a89f8c49b08113be002285938b": {
          "model_module": "@jupyter-widgets/controls",
          "model_name": "DescriptionStyleModel",
          "model_module_version": "1.5.0",
          "state": {
            "_model_module": "@jupyter-widgets/controls",
            "_model_module_version": "1.5.0",
            "_model_name": "DescriptionStyleModel",
            "_view_count": null,
            "_view_module": "@jupyter-widgets/base",
            "_view_module_version": "1.2.0",
            "_view_name": "StyleView",
            "description_width": ""
          }
        },
        "f295581277c640ab82f521748ad9ac71": {
          "model_module": "@jupyter-widgets/output",
          "model_name": "OutputModel",
          "model_module_version": "1.0.0",
          "state": {
            "_dom_classes": [],
            "_model_module": "@jupyter-widgets/output",
            "_model_module_version": "1.0.0",
            "_model_name": "OutputModel",
            "_view_count": null,
            "_view_module": "@jupyter-widgets/output",
            "_view_module_version": "1.0.0",
            "_view_name": "OutputView",
            "layout": "IPY_MODEL_2a672f2470cc4ef29c51c6f8641561a3",
            "msg_id": "",
            "outputs": []
          }
        },
        "2a672f2470cc4ef29c51c6f8641561a3": {
          "model_module": "@jupyter-widgets/base",
          "model_name": "LayoutModel",
          "model_module_version": "1.2.0",
          "state": {
            "_model_module": "@jupyter-widgets/base",
            "_model_module_version": "1.2.0",
            "_model_name": "LayoutModel",
            "_view_count": null,
            "_view_module": "@jupyter-widgets/base",
            "_view_module_version": "1.2.0",
            "_view_name": "LayoutView",
            "align_content": null,
            "align_items": null,
            "align_self": null,
            "border": null,
            "bottom": null,
            "display": null,
            "flex": null,
            "flex_flow": null,
            "grid_area": null,
            "grid_auto_columns": null,
            "grid_auto_flow": null,
            "grid_auto_rows": null,
            "grid_column": null,
            "grid_gap": null,
            "grid_row": null,
            "grid_template_areas": null,
            "grid_template_columns": null,
            "grid_template_rows": null,
            "height": null,
            "justify_content": null,
            "justify_items": null,
            "left": null,
            "margin": null,
            "max_height": null,
            "max_width": null,
            "min_height": null,
            "min_width": null,
            "object_fit": null,
            "object_position": null,
            "order": null,
            "overflow": null,
            "overflow_x": null,
            "overflow_y": null,
            "padding": null,
            "right": null,
            "top": null,
            "visibility": null,
            "width": null
          }
        }
      }
    }
  },
  "cells": [
    {
      "cell_type": "markdown",
      "metadata": {
        "id": "view-in-github",
        "colab_type": "text"
      },
      "source": [
        "<a href=\"https://colab.research.google.com/github/Adarsh3589/Normal_distrribution-/blob/main/Untitled6.ipynb\" target=\"_parent\"><img src=\"https://colab.research.google.com/assets/colab-badge.svg\" alt=\"Open In Colab\"/></a>"
      ]
    },
    {
      "cell_type": "code",
      "execution_count": 46,
      "metadata": {
        "id": "ZLl3owRrB89G",
        "colab": {
          "base_uri": "https://localhost:8080/",
          "height": 87
        },
        "outputId": "0146497e-9d33-41f3-be74-a9e03b2ea950"
      },
      "outputs": [
        {
          "output_type": "execute_result",
          "data": {
            "text/plain": [
              "'import pandas as pd\\nimport requests\\nfrom io import BytesIO\\n\\n# ✅ Correct raw GitHub link\\nurl = \"https://raw.githubusercontent.com/Adarsh3589/Normal_distrribution-/7db43f902af6b9e77baa12495238cbaa2b0d3d87/AMS%206431%2020%20Heat%20Tracker%20Test%20Results.xlsx\"\\n\\n# Download and load as binary\\nresponse = requests.get(url)\\nresponse.raise_for_status()  # will raise an error if download fails\\n\\n# Read Excel content using BytesIO\\nexcel_data = BytesIO(response.content)\\n\\n# Read the second sheet (index 1)\\ndf = pd.read_excel(excel_data, sheet_name=1, engine=\\'openpyxl\\')\\n\\n# Show column names (in case you need to adjust them)\\nprint(\"Available columns:\\n\", df.columns.tolist())\\n\\n# Show result\\ndf.head(1)'"
            ],
            "application/vnd.google.colaboratory.intrinsic+json": {
              "type": "string"
            }
          },
          "metadata": {},
          "execution_count": 46
        }
      ],
      "source": [
        "\"\"\"import pandas as pd\n",
        "import requests\n",
        "from io import BytesIO\n",
        "\n",
        "# ✅ Correct raw GitHub link\n",
        "url = \"https://raw.githubusercontent.com/Adarsh3589/Normal_distrribution-/7db43f902af6b9e77baa12495238cbaa2b0d3d87/AMS%206431%2020%20Heat%20Tracker%20Test%20Results.xlsx\"\n",
        "\n",
        "# Download and load as binary\n",
        "response = requests.get(url)\n",
        "response.raise_for_status()  # will raise an error if download fails\n",
        "\n",
        "# Read Excel content using BytesIO\n",
        "excel_data = BytesIO(response.content)\n",
        "\n",
        "# Read the second sheet (index 1)\n",
        "df = pd.read_excel(excel_data, sheet_name=1, engine='openpyxl')\n",
        "\n",
        "# Show column names (in case you need to adjust them)\n",
        "print(\"Available columns:\\n\", df.columns.tolist())\n",
        "\n",
        "# Show result\n",
        "df.head(1)\"\"\"\n"
      ]
    },
    {
      "cell_type": "code",
      "source": [
        "\"\"\"# Optionally filter required columns\n",
        "required_columns = [\"Heat_No.\", \"Property\", \"Spec_Min\", \"Spec_Max\", \"Result\"]\n",
        "df = df[required_columns]\n",
        "df.head()\"\"\""
      ],
      "metadata": {
        "colab": {
          "base_uri": "https://localhost:8080/",
          "height": 35
        },
        "id": "9ntHj4omEAes",
        "outputId": "ad296321-8f27-4691-fd9d-8cb277f03e7c"
      },
      "execution_count": 47,
      "outputs": [
        {
          "output_type": "execute_result",
          "data": {
            "text/plain": [
              "'# Optionally filter required columns\\nrequired_columns = [\"Heat_No.\", \"Property\", \"Spec_Min\", \"Spec_Max\", \"Result\"]\\ndf = df[required_columns]\\ndf.head()'"
            ],
            "application/vnd.google.colaboratory.intrinsic+json": {
              "type": "string"
            }
          },
          "metadata": {},
          "execution_count": 47
        }
      ]
    },
    {
      "cell_type": "code",
      "source": [
        "\"\"\"Property_list = list(df['Property'].unique())\n",
        "Property_list\"\"\""
      ],
      "metadata": {
        "colab": {
          "base_uri": "https://localhost:8080/",
          "height": 35
        },
        "id": "ObTdQbROGg_m",
        "outputId": "ead5d23b-f524-4faf-e938-470d3ba80abc"
      },
      "execution_count": 48,
      "outputs": [
        {
          "output_type": "execute_result",
          "data": {
            "text/plain": [
              "\"Property_list = list(df['Property'].unique())\\nProperty_list\""
            ],
            "application/vnd.google.colaboratory.intrinsic+json": {
              "type": "string"
            }
          },
          "metadata": {},
          "execution_count": 48
        }
      ]
    },
    {
      "cell_type": "code",
      "source": [
        "#df[Property_list[0]]"
      ],
      "metadata": {
        "id": "ILpUZlZ4GslY"
      },
      "execution_count": 49,
      "outputs": []
    },
    {
      "cell_type": "code",
      "source": [
        "import pandas as pd\n",
        "import requests\n",
        "from io import BytesIO\n",
        "from IPython.display import display\n",
        "import ipywidgets as widgets\n",
        "\n",
        "# Step 1: Download the Excel file from GitHub\n",
        "url = \"https://raw.githubusercontent.com/Adarsh3589/Normal_distrribution-/7db43f902af6b9e77baa12495238cbaa2b0d3d87/AMS%206431%2020%20Heat%20Tracker%20Test%20Results.xlsx\"\n",
        "response = requests.get(url)\n",
        "response.raise_for_status()\n",
        "excel_data = BytesIO(response.content)\n",
        "\n",
        "# Step 2: Load the second sheet\n",
        "df = pd.read_excel(excel_data, sheet_name=1, engine='openpyxl')\n",
        "\n",
        "# Step 3: Filter only the required columns\n",
        "required_columns = [\"Heat_No.\", \"Property\", \"Spec_Min\", \"Spec_Max\", \"Result\"]\n",
        "df = df[required_columns]\n",
        "\n",
        "# Step 4: Create a dictionary of DataFrames for each unique property\n",
        "unique_properties = df[\"Property\"].dropna().unique().tolist()\n",
        "unique_properties.sort()\n",
        "property_dfs = {prop: df[df[\"Property\"] == prop] for prop in unique_properties}\n",
        "\n",
        "# Step 5: Dropdown widget for user selection\n",
        "property_selector = widgets.Dropdown(\n",
        "    options=unique_properties,\n",
        "    description='Select Property:',\n",
        "    disabled=False,\n",
        ")\n",
        "\n",
        "# Step 6: Output widget to display result\n",
        "output = widgets.Output()\n",
        "\n",
        "# Step 7: Global variable to store the selected DataFrame\n",
        "selected_property_df = pd.DataFrame()  # initially empty\n",
        "\n",
        "# Step 8: Function to update global variable on selection\n",
        "def on_property_change(change):\n",
        "    global selected_property_df\n",
        "    selected_property_df = property_dfs[change['new']]  # store for future use\n",
        "    with output:\n",
        "        output.clear_output()\n",
        "        print(f\"Selected Property: {change['new']}\")\n",
        "        display(selected_property_df.head())\n",
        "\n",
        "property_selector.observe(on_property_change, names='value')\n",
        "\n",
        "# Step 9: Display UI\n",
        "display(property_selector, output)\n"
      ],
      "metadata": {
        "colab": {
          "base_uri": "https://localhost:8080/",
          "height": 49,
          "referenced_widgets": [
            "050cd7f3e30f468589e7b45b1ac9c4e0",
            "8b80b471f5964cf28515bded1595c351",
            "015cd8a89f8c49b08113be002285938b",
            "f295581277c640ab82f521748ad9ac71",
            "2a672f2470cc4ef29c51c6f8641561a3"
          ]
        },
        "id": "lizwb7cJHg26",
        "outputId": "4d66448c-6b3a-4da9-e368-08215334464d"
      },
      "execution_count": 50,
      "outputs": [
        {
          "output_type": "display_data",
          "data": {
            "text/plain": [
              "Dropdown(description='Select Property:', options=('C', 'Cr', 'Cu', 'Mn', 'Mo', 'Ni ', 'P', 'S', 'Si', 'V'), va…"
            ],
            "application/vnd.jupyter.widget-view+json": {
              "version_major": 2,
              "version_minor": 0,
              "model_id": "050cd7f3e30f468589e7b45b1ac9c4e0"
            }
          },
          "metadata": {}
        },
        {
          "output_type": "display_data",
          "data": {
            "text/plain": [
              "Output()"
            ],
            "application/vnd.jupyter.widget-view+json": {
              "version_major": 2,
              "version_minor": 0,
              "model_id": "f295581277c640ab82f521748ad9ac71"
            }
          },
          "metadata": {}
        }
      ]
    },
    {
      "cell_type": "code",
      "source": [],
      "metadata": {
        "id": "uiMjp8YvItvm"
      },
      "execution_count": 50,
      "outputs": []
    },
    {
      "cell_type": "code",
      "source": [],
      "metadata": {
        "id": "_8fLYqNMJiPj"
      },
      "execution_count": 50,
      "outputs": []
    }
  ]
}